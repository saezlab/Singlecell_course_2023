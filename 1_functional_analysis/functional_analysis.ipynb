{
 "cells": [
  {
   "cell_type": "markdown",
   "id": "f7a4dfee-1af7-4995-a09a-abebfc572484",
   "metadata": {},
   "source": [
    "# Functional analysis of single-cell transcriptomics"
   ]
  },
  {
   "cell_type": "markdown",
   "id": "f25c1b4a-4c9c-4bce-ad6a-046e5f5169eb",
   "metadata": {},
   "source": [
    "## Introduction\n",
    "\n",
    "Single-cell transcriptomics yield many molecular readouts that one by one are\n",
    "hard to interpret. Functional analysis or \"enrichment\" tries to summarize this\n",
    "information into interpretable concepts using prior knowledge, making it easier\n",
    "to characterize the biological context being studied. \n",
    "\n",
    "The goals of this tutorial are to:\n",
    "\n",
    "- Introduce the functional analysis concept\n",
    "- Learn how to run functional analysis\n",
    "- Understand the differences in functional modeling\n",
    "- Interpret the obtained scores\n",
    "\n",
    "To do so, we will analyse a downsampled single-cell transcriptomics dataset\n",
    "consisting of human immune cells from healthy and COVID-19 infected patients.\n",
    "We leverage the tool [decoupler](https://decoupler-py.readthedocs.io/en/latest/), which contains enrichment methods\n",
    "to obtain biological activities from omics data."
   ]
  },
  {
   "cell_type": "markdown",
   "id": "7f0a8062-37a4-460e-a411-f114f3b64958",
   "metadata": {},
   "source": [
    "## Dependencies\n",
    "To be able to run the code, we first need to load\n",
    "the required packages."
   ]
  },
  {
   "cell_type": "code",
   "execution_count": null,
   "id": "fc8dbaaa-05a6-4036-a2d1-a0731a570ed8",
   "metadata": {},
   "outputs": [],
   "source": [
    "# Single-cell processing\n",
    "import scanpy as sc\n",
    "\n",
    "# Enrichment analysis\n",
    "import decoupler as dc\n",
    "\n",
    "# Data handling\n",
    "import pandas as pd\n",
    "import numpy as np\n",
    "\n",
    "# Plotting options, change to your liking\n",
    "sc.settings.set_figure_params(dpi=200, frameon=False)\n",
    "sc.set_figure_params(dpi=200)\n",
    "sc.set_figure_params(figsize=(4, 4))"
   ]
  },
  {
   "cell_type": "markdown",
   "id": "1ef9692c-39cb-4733-a5f3-aa57cacdf361",
   "metadata": {},
   "source": [
    "## Data loading\n",
    "To load the processed dataset run. With this we obtain an `AnnData` object:"
   ]
  },
  {
   "cell_type": "code",
   "execution_count": null,
   "id": "81b7e774-841e-43e2-99ee-d4b1a4e26783",
   "metadata": {},
   "outputs": [],
   "source": [
    "adata = sc.read_h5ad('data/covid.h5ad')\n",
    "adata"
   ]
  },
  {
   "cell_type": "markdown",
   "id": "f908d5ec-bf25-4a64-9983-283b7bb5a632",
   "metadata": {},
   "source": [
    "\n",
    "\n",
    "Inside an `AnnData` object we have different attributes, here are the most important ones:\n",
    "\n",
    "* X: This is where the main assay is stored, in this case log-transformed normalized counts\n",
    "* obs: Metadata dataframe for cells (rows)\n",
    "* var: Metadata dataframe for genes (columns)\n",
    "\n",
    "You can read more about it in the official [documentation](https://anndata.readthedocs.io/en/latest/index.html)\n",
    "\n",
    "<img src=\"https://anndata.readthedocs.io/en/latest/_images/anndata_schema.svg\"\n",
    "     width=\"400\" \n",
    "     height=\"500\" />"
   ]
  },
  {
   "cell_type": "markdown",
   "id": "e6f3a42e-3b9e-4ca4-a138-6d733eb1211b",
   "metadata": {},
   "source": [
    "What can you tell about this already processed dataset? Explore its metadata and\n",
    "try to plot some of its attributes with `sc.pl.umap`:\n",
    "\n",
    "<div class=\"alert alert-info\">\n",
    "\n",
    "**Note**\n",
    "    \n",
    "If you want to know how to use a function, you can run `?` followed with the function name. Example `?sc.pl.umap`.\n",
    "\n",
    "</div>  "
   ]
  },
  {
   "cell_type": "code",
   "execution_count": null,
   "id": "c20d4e01-482c-4de6-899b-588fccdb921b",
   "metadata": {},
   "outputs": [],
   "source": [
    "# Explore adata\n",
    "\n",
    "\n"
   ]
  },
  {
   "cell_type": "markdown",
   "id": "186037f1-7067-48e9-afe9-98aae2c3a05c",
   "metadata": {},
   "source": [
    "## Cell type annotation\n",
    "\n",
    "In single-cell data, we have no prior information of which cell type each cell\n",
    "belongs. To assign cell type labels, we first project all cells in a shared\n",
    "embedded space, then we find communities of cells that show a similar\n",
    "transcription profile and finally we check what cell type specific markers are\n",
    "expressed. These genes are mainly expressed exclusively by a specific\n",
    "cell type, making them useful to distinguish heterogeneous groups of cells.\n",
    "Marker genes were discovered and annotated in previous studies and there are\n",
    "some resources that collect and curate them. If more than one marker gene is\n",
    "available, statistical methods can be used to test if a set of markers is\n",
    "enriched in a given cell population.\n",
    "\n",
    "`PanglaoDB` is a database of cell type markers, which can be easily accessed\n",
    "using a wrapper to `OmniPath` from `decoupler`:\n",
    "\n",
    "```python\n",
    "# Retrieving via decoupler\n",
    "markers = dc.get_resource('PanglaoDB')\n",
    "```\n",
    "\n",
    "However, for stability of this tutorial we are using a fixed version:"
   ]
  },
  {
   "cell_type": "code",
   "execution_count": null,
   "id": "c6666aad-fbf5-4907-b481-adb17272ddec",
   "metadata": {},
   "outputs": [],
   "source": [
    "markers = pd.read_csv('data/panglaodb.csv')\n",
    "markers"
   ]
  },
  {
   "cell_type": "markdown",
   "id": "6bfe1055-1332-47dd-a94c-55353808a39b",
   "metadata": {},
   "source": [
    "Take a look how the resource is organized. Can you filter by relevant \n",
    "information? Think of a filtering strategy that will help the annotation of your\n",
    "dataset."
   ]
  },
  {
   "cell_type": "code",
   "execution_count": null,
   "id": "a446f08f-941c-47f0-a71f-5b81d5edb5ce",
   "metadata": {},
   "outputs": [],
   "source": [
    "# Filter relevant information\n",
    "\n",
    "\n"
   ]
  },
  {
   "cell_type": "markdown",
   "id": "57d228fb-b3ae-4ff2-90c5-4193a55751f8",
   "metadata": {},
   "source": [
    "Once filtered, we will use the resource `PanglaoDB` and the method Over Representation Analysis (ORA) to see which cells are\n",
    "enriched by cell type marker genes."
   ]
  },
  {
   "cell_type": "code",
   "execution_count": null,
   "id": "fce32ec6-a1bf-4d15-9aa7-4ea2e44565ae",
   "metadata": {},
   "outputs": [],
   "source": [
    "dc.run_ora(\n",
    "    mat=adata,\n",
    "    net=markers,\n",
    "    source='cell_type',\n",
    "    target='genesymbol',\n",
    "    min_n=3,\n",
    "    verbose=True,\n",
    "    use_raw=False\n",
    ")"
   ]
  },
  {
   "cell_type": "markdown",
   "id": "cd817c59-febe-45eb-b684-16e7b9108031",
   "metadata": {},
   "source": [
    "For each cell, we now have an enrichment score for each cell type in our resource. We can extract these scores in a new `AnnData` object:"
   ]
  },
  {
   "cell_type": "code",
   "execution_count": null,
   "id": "308710d7-d835-44ac-8db8-edefe5454ca2",
   "metadata": {},
   "outputs": [],
   "source": [
    "acts = dc.get_acts(adata, obsm_key='ora_estimate')\n",
    "\n",
    "# We need to remove inf and set them to the maximum value observed\n",
    "acts_v = acts.X.ravel()\n",
    "max_e = np.nanmax(acts_v[np.isfinite(acts_v)])\n",
    "acts.X[~np.isfinite(acts.X)] = max_e\n",
    "\n",
    "# We can scale the obtained activities for better visualizations\n",
    "sc.pp.scale(acts)\n",
    "acts"
   ]
  },
  {
   "cell_type": "markdown",
   "id": "f9a6f326-8970-4a4f-8625-f811b8eb5157",
   "metadata": {},
   "source": [
    "With `decoupler` we can also identify which are the top predicted cell types per cluster using the \n",
    "function `dc.rank_sources_groups`. Here, it identifies \"marker\" cell types per cluster using\n",
    "same statistical tests available in scanpy's `scanpy.tl.rank_genes_groups`."
   ]
  },
  {
   "cell_type": "code",
   "execution_count": null,
   "id": "f070042c-2977-4a81-a875-a6a9349acf96",
   "metadata": {},
   "outputs": [],
   "source": [
    "# Extract top cell types per cluster\n",
    "df = dc.rank_sources_groups(acts, groupby='leiden', reference='rest', method='t-test_overestim_var')\n",
    "df"
   ]
  },
  {
   "cell_type": "markdown",
   "id": "b2632d5f-1475-433c-93b2-0470aa5a0593",
   "metadata": {},
   "source": [
    "We can then extract the top 3 predicted cell types per cluster:"
   ]
  },
  {
   "cell_type": "code",
   "execution_count": null,
   "id": "153ea669-1af0-4e49-b320-691f8fc31498",
   "metadata": {},
   "outputs": [],
   "source": [
    "n_ctypes = 3\n",
    "ctypes_dict = df.groupby('group').head(n_ctypes).groupby('group')['names'].apply(lambda x: list(x)).to_dict()\n",
    "ctypes_dict"
   ]
  },
  {
   "cell_type": "markdown",
   "id": "dfbd6cfc-186a-478e-aeaa-443b8d6542db",
   "metadata": {},
   "source": [
    "We can visualize the obtained top predicted cell types:"
   ]
  },
  {
   "cell_type": "code",
   "execution_count": null,
   "id": "be53c405-a41f-4142-82fe-e91b95780221",
   "metadata": {},
   "outputs": [],
   "source": [
    "sc.pl.matrixplot(acts, ctypes_dict, 'leiden', dendrogram=True,\n",
    "                 colorbar_title='Z-scaled scores', vmin=-2, vmax=2, cmap='RdBu_r')"
   ]
  },
  {
   "cell_type": "markdown",
   "id": "ff97c78b-9135-4b92-8f83-edb76e5cb011",
   "metadata": {},
   "source": [
    "Can you come up with an annotation for this atlas? You can use `sc.pl.violin` and `sc.pl.umap` to explore the obtained scores."
   ]
  },
  {
   "cell_type": "code",
   "execution_count": null,
   "id": "effeceaf-5878-4c2b-bdc5-0d584434d20c",
   "metadata": {},
   "outputs": [],
   "source": [
    "# Explore data\n",
    "\n",
    "\n"
   ]
  },
  {
   "cell_type": "code",
   "execution_count": null,
   "id": "8ee14051-6992-4222-be58-f290a1b34f63",
   "metadata": {},
   "outputs": [],
   "source": [
    "# Final anntoation\n",
    "ann_dict = {\n",
    "    '0': '',\n",
    "    '1': '',\n",
    "    '2': '',\n",
    "    '3': '',\n",
    "    '4': '',\n",
    "    '5': '',\n",
    "    '6': '',\n",
    "    '7': '',\n",
    "}\n",
    "\n",
    "adata.obs['cell_type'] = [ann_dict[clust] for clust in adata.obs['leiden']]"
   ]
  },
  {
   "cell_type": "markdown",
   "id": "263b75e9-0dc0-4a3b-b8c4-631dafa69d31",
   "metadata": {},
   "source": [
    "We can visualize how the final annotation looks like:"
   ]
  },
  {
   "cell_type": "code",
   "execution_count": null,
   "id": "69563722-17be-460a-b341-d93dc67e133f",
   "metadata": {},
   "outputs": [],
   "source": [
    "sc.pl.umap(adata, color='cell_type')"
   ]
  },
  {
   "cell_type": "markdown",
   "id": "6184f29a-ec6b-439c-bb80-5a1f10440b59",
   "metadata": {},
   "source": [
    "## Transcription factor activity inference\n",
    "Transcription factors (TF) are proteins that regulate the expression of specific \n",
    "target genes. Gene regulation can be represented as a Gene Regulatory Network\n",
    "(GRN), where TFs regulate downstream target genes (which can be other TFs). \n",
    "\n",
    "[DoRothEA](https://saezlab.github.io/dorothea/) is a comprehensive resource\n",
    "containing a curated collection of TFs and their transcriptional targets. Since\n",
    "these regulons were gathered from different types of evidence, interactions in\n",
    "DoRothEA are classified in different confidence levels, ranging from A (highest\n",
    "confidence) to D (lowest confidence). Moreover, each interaction is weighted by\n",
    "its confidence level and the sign of its mode of regulation (activation or\n",
    "inhibition).\n",
    "\n",
    "It can be easily accessed using a wrapper to `OmniPath` from `decoupleR`.\n",
    "\n",
    "```python\n",
    "# Retrieving via decoupler\n",
    "dorothea = dc.get_dorothea()\n",
    "```\n",
    "\n",
    "However, like in the previous example we will work with a fixed version:"
   ]
  },
  {
   "cell_type": "code",
   "execution_count": null,
   "id": "41634c82-8c2d-4159-a71c-2d5f4f19b834",
   "metadata": {},
   "outputs": [],
   "source": [
    "dorothea = pd.read_csv('data/dorothea.csv')\n",
    "dorothea"
   ]
  },
  {
   "cell_type": "markdown",
   "id": "92cc5814-38c6-4a03-be80-cdcf159394b4",
   "metadata": {},
   "source": [
    "Explore a little bit the obtained network. How many interactions are coming\n",
    "from each confidence level? What is the distribution of mode of regulations?\n",
    "What is the distribution of number of target genes per TF?"
   ]
  },
  {
   "cell_type": "code",
   "execution_count": null,
   "id": "3168bca4-3291-4beb-8f96-56dad474f980",
   "metadata": {},
   "outputs": [],
   "source": [
    "# Explore dorothea\n",
    "\n",
    "\n"
   ]
  },
  {
   "cell_type": "markdown",
   "id": "1e5aa406-33f2-497f-9cbe-4c8fd91642ac",
   "metadata": {},
   "source": [
    "Afterwards, we will give the gene expression and `DoRothEA` to\n",
    "the method univariate linear model (ULM), which will infer activity scores for each TF\n",
    "in each cell."
   ]
  },
  {
   "cell_type": "code",
   "execution_count": null,
   "id": "4060ca49-458a-4b72-8965-4024184e7e17",
   "metadata": {},
   "outputs": [],
   "source": [
    "dc.run_ulm(\n",
    "    mat=adata,\n",
    "    net=dorothea,\n",
    "    source='source',\n",
    "    target='target',\n",
    "    weight='weight',\n",
    "    min_n=10,\n",
    "    verbose=True,\n",
    "    use_raw=False\n",
    ")"
   ]
  },
  {
   "cell_type": "markdown",
   "id": "27c04755-5867-4836-b337-dbce49dbfc95",
   "metadata": {},
   "source": [
    "For each cell, we now have an enrichment score for each TF in our network. We can extract these scores in a new `AnnData` object:"
   ]
  },
  {
   "cell_type": "code",
   "execution_count": null,
   "id": "f806f32d-3d52-4f5d-84cf-7b36ae51d7ba",
   "metadata": {},
   "outputs": [],
   "source": [
    "acts = dc.get_acts(adata, obsm_key='ulm_estimate')\n",
    "\n",
    "# We can scale the obtained activities for better visualizations\n",
    "sc.pp.scale(acts)\n",
    "acts"
   ]
  },
  {
   "cell_type": "markdown",
   "id": "4fba1194-644d-4cbf-9012-d41727c97fb9",
   "metadata": {},
   "source": [
    "Like before, we can test which are the top active TFs per cluster or cell type:"
   ]
  },
  {
   "cell_type": "code",
   "execution_count": null,
   "id": "bca6b546-0117-4c1b-a311-b12b096772b2",
   "metadata": {},
   "outputs": [],
   "source": [
    "# Extract top cell types per cluster\n",
    "df = dc.rank_sources_groups(acts, groupby='cell_type', reference='rest', method='t-test_overestim_var')\n",
    "df"
   ]
  },
  {
   "cell_type": "markdown",
   "id": "8154ec1f-6bbb-40bc-936d-11a3b2b13c6a",
   "metadata": {},
   "source": [
    "Explore the results with `sc.pl.matrixplot`, `sc.pl.violin` and `sc.pl.umap`. Do these results make sense? Search some active TFs in the literature to\n",
    "confirm."
   ]
  },
  {
   "cell_type": "markdown",
   "id": "01f3f42b-740b-4878-b158-a9875ea2419a",
   "metadata": {},
   "source": [
    "# Pathway activity inference\n",
    "\n",
    "Cells activate or inhibit gene programs, called pathways, that module the cell\n",
    "response to external changes. For example they can induce apoptosis if they are\n",
    "targeted by immune cells or shift metabolism when oxygen is not available.\n",
    "\n",
    "[PROGENy](https://saezlab.github.io/progeny/) is a comprehensive resource\n",
    "containing a curated collection of pathways and their target genes, with\n",
    "weights (activation or inhibition) and p-values for each interaction.\n",
    "\n",
    "It can be easily accessed using a wrapper to `OmniPath` from `decoupleR`.\n",
    "\n",
    "```python\n",
    "progeny = dc.get_progeny()\n",
    "```\n",
    "\n",
    "But we will work with a fixed version:"
   ]
  },
  {
   "cell_type": "code",
   "execution_count": null,
   "id": "d995c1c1-01cd-47f7-8faa-17a817c1afc7",
   "metadata": {},
   "outputs": [],
   "source": [
    "progeny = pd.read_csv('data/progeny.csv')\n",
    "progeny"
   ]
  },
  {
   "cell_type": "markdown",
   "id": "91535b39-0be1-41de-af68-bdc0cf52f2dc",
   "metadata": {},
   "source": [
    "Explore the obtained dataframe. How many different pathways does PROGENy\n",
    "contain. Discuss some of its pathways, what biological processes are they\n",
    "regulating? Search literature if needed."
   ]
  },
  {
   "cell_type": "markdown",
   "id": "1d7b2005-1845-49dc-8db4-549f545180ef",
   "metadata": {},
   "source": [
    "In the previous exercise, we estimated TF activities per cell type but we did\n",
    "not explore the differences between healthy and COVID-19 patients. To do so,\n",
    "first we will compute the Differential Expressed Genes (DEG) between conditions for a cell type of your choice."
   ]
  },
  {
   "cell_type": "code",
   "execution_count": null,
   "id": "95cc3a48-db11-47fd-95d3-a3f284b0c15e",
   "metadata": {},
   "outputs": [],
   "source": [
    "# Select your cell type of choice\n",
    "cell_type = ''\n",
    "\n",
    "# Subset adata\n",
    "sdata = adata[adata.obs['cell_type'] == cell_type]\n",
    "\n",
    "# Run DEG between COVID and healthy\n",
    "sdata.uns['log1p'][\"base\"] = None # Might need this\n",
    "sc.tl.rank_genes_groups(sdata, 'disease', method='t-test')\n",
    "\n",
    "# Extract DEG\n",
    "deg = sc.get.rank_genes_groups_df(sdata, group=None)\n",
    "deg.head(10)"
   ]
  },
  {
   "cell_type": "markdown",
   "id": "fb8b2dfe-644d-4b57-b40f-c43827e29b52",
   "metadata": {},
   "source": [
    "What can you tell about the top DEG? Try looking at literature for meaning.\n",
    "\n",
    "Results from DEG can be used for functional enrichment. Now we will use the\n",
    "obtained logFCs and estimate pathway activities from them using ULM:"
   ]
  },
  {
   "cell_type": "code",
   "execution_count": null,
   "id": "217bd5a4-dd03-4e4a-a72c-a9534bae1d2a",
   "metadata": {},
   "outputs": [],
   "source": [
    "# Filter sign genes and transform to mat\n",
    "mat = deg[deg['pvals_adj'] < 0.05].pivot(index='group', columns='names', values='logfoldchanges')\n",
    "mat"
   ]
  },
  {
   "cell_type": "code",
   "execution_count": null,
   "id": "8c8eea54-00e8-4538-8470-1a4dfb2919bd",
   "metadata": {},
   "outputs": [],
   "source": [
    "enr_scores, enr_pvals = dc.run_ulm(\n",
    "    mat=mat,\n",
    "    net=progeny,\n",
    "    source='source',\n",
    "    target='target',\n",
    "    weight='weight',\n",
    "    min_n=10,\n",
    "    verbose=True,\n",
    "    use_raw=False\n",
    ")\n",
    "\n",
    "enr_scores"
   ]
  },
  {
   "cell_type": "markdown",
   "id": "b6d07302-bc3e-45e5-a4e5-0a6cf08aa23f",
   "metadata": {},
   "source": [
    "We can visualize the results:"
   ]
  },
  {
   "cell_type": "code",
   "execution_count": null,
   "id": "1f4ee693-458b-421e-bbab-fbe71127ffe9",
   "metadata": {},
   "outputs": [],
   "source": [
    "dc.plot_barplot(enr_scores, 'COVID-19', top=25, vertical=False)"
   ]
  },
  {
   "cell_type": "markdown",
   "id": "93c437f4-0240-4f9e-8f66-f09d3be2484f",
   "metadata": {},
   "source": [
    "Comment the obtained results. Do they make sense? Explore other cell types."
   ]
  }
 ],
 "metadata": {
  "kernelspec": {
   "display_name": "func",
   "language": "python",
   "name": "func"
  },
  "language_info": {
   "codemirror_mode": {
    "name": "ipython",
    "version": 3
   },
   "file_extension": ".py",
   "mimetype": "text/x-python",
   "name": "python",
   "nbconvert_exporter": "python",
   "pygments_lexer": "ipython3",
   "version": "3.10.10"
  }
 },
 "nbformat": 4,
 "nbformat_minor": 5
}
